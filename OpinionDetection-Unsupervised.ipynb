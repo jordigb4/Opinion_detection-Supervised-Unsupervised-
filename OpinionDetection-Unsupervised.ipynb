{
 "cells": [
  {
   "cell_type": "markdown",
   "metadata": {},
   "source": [
    "# Opinion Detection - Unsupervised"
   ]
  },
  {
   "cell_type": "code",
   "execution_count": null,
   "metadata": {},
   "outputs": [],
   "source": [
    "import pandas as pd\n",
    "import numpy as np\n",
    "import text_normalizer as tn\n",
    "import nltk\n",
    "nltk.download('movie_reviews')\n",
    "import warnings\n",
    "warnings.filterwarnings('ignore')"
   ]
  },
  {
   "cell_type": "markdown",
   "metadata": {},
   "source": [
    "### <font color='orange'>Load and Preprocess Data</font>"
   ]
  },
  {
   "cell_type": "code",
   "execution_count": null,
   "metadata": {},
   "outputs": [],
   "source": [
    "from nltk.corpus import movie_reviews as mr\n",
    "from random import shuffle, seed\n",
    "seed(42)\n",
    "\n",
    "documents = [(mr.raw(file_id), 1 if category == 'pos' else 0) for category in mr.categories() for file_id in mr.fileids(category)]\n",
    "shuffle(documents)"
   ]
  },
  {
   "cell_type": "code",
   "execution_count": null,
   "metadata": {},
   "outputs": [],
   "source": [
    "df_train, df_test = documents[:1600], documents[1600:]\n",
    "X_train = [item[0] for item in df_train] \n",
    "#no supervisat --> no etiquetes\n",
    "\n",
    "X_test = [item[0] for item in df_test]\n",
    "y_test = [item[1] for item in df_test]\n",
    "\n",
    "X_train_cleaned = tn.normalize_corpus(X_train)\n",
    "X_test_cleaned = tn.normalize_corpus(X_test)"
   ]
  }
 ],
 "metadata": {
  "kernelspec": {
   "display_name": "Python 3",
   "language": "python",
   "name": "python3"
  },
  "language_info": {
   "name": "python",
   "version": "3.10.10"
  }
 },
 "nbformat": 4,
 "nbformat_minor": 2
}
