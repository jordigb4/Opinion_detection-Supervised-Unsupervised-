{
 "cells": [
  {
   "cell_type": "markdown",
   "metadata": {},
   "source": [
    "# Opinion Detection - Unsupervised"
   ]
  },
  {
   "cell_type": "code",
   "execution_count": null,
   "metadata": {},
   "outputs": [],
   "source": [
    "import pandas as pd\n",
    "import numpy as np\n",
    "import text_normalizer as tn\n",
    "import nltk\n",
    "nltk.download('movie_reviews')\n",
    "nltk.download('wordnet')\n",
    "from nltk.corpus import wordnet as wn\n",
    "nltk.download('sentiwordnet')\n",
    "from nltk.corpus import sentiwordnet as swn\n",
    "\n",
    "import warnings\n",
    "warnings.filterwarnings('ignore')"
   ]
  },
  {
   "cell_type": "markdown",
   "metadata": {},
   "source": [
    "### <font color='orange'>Load and Preprocess Data</font>"
   ]
  },
  {
   "cell_type": "code",
   "execution_count": 2,
   "metadata": {},
   "outputs": [],
   "source": [
    "from nltk.corpus import movie_reviews as mr\n",
    "from random import shuffle, seed\n",
    "seed(42)\n",
    "\n",
    "documents = [(mr.raw(file_id), 1 if category == 'pos' else 0) for category in mr.categories() for file_id in mr.fileids(category)]\n",
    "shuffle(documents)"
   ]
  },
  {
   "cell_type": "code",
   "execution_count": 3,
   "metadata": {},
   "outputs": [],
   "source": [
    "df_train, df_test = documents[:1600], documents[1600:]\n",
    "\n",
    "X_train = [item[0] for item in df_train]\n",
    "y_train = [item[1] for item in df_train]\n",
    "\n",
    "X_test = [item[0] for item in df_test]\n",
    "y_test = [item[1] for item in df_test]\n",
    "\n",
    "X_train_cleaned = tn.normalize_corpus(X_train)\n",
    "X_test_cleaned = tn.normalize_corpus(X_test)"
   ]
  },
  {
   "cell_type": "markdown",
   "metadata": {},
   "source": [
    "### <font color='orange'>Find best coefficients for POS scores</font>"
   ]
  },
  {
   "cell_type": "code",
   "execution_count": null,
   "metadata": {},
   "outputs": [],
   "source": [
    "from textserver import TextServer\n",
    "ts = TextServer('alberto.jerez6', 'aYe21B5r!', 'senses')\n",
    "ts.senses('Hello')"
   ]
  },
  {
   "cell_type": "code",
   "execution_count": 7,
   "metadata": {},
   "outputs": [
    {
     "name": "stdout",
     "output_type": "stream",
     "text": [
      "\n",
      "=== word: happy ===\n",
      "Positive score:  0.875\n",
      "Negative score:  0.0\n",
      "Objective score:  0.125\n"
     ]
    }
   ],
   "source": [
    "default_coef = {tag : 1 for tag in [\"NN\", \"JJ\", \"VB\", \"RB\"]}\n",
    "def sentiwordnet_predict(review, coef = default_coef):\n",
    "\n",
    "    annotated_text = ts.senses(review)\n",
    "    WSD_text = [[row[2], row[4]] for row in annotated_text[0]] #get tags and synsets of the review\n",
    "\n",
    "    final_score = token_count = 0\n",
    "    for tag, synset in WSD_text:\n",
    "        \n",
    "        if synset != 'N/A': \n",
    "            offset = int(synset[:8]); pos = synset[9]\n",
    "            synset = wn.synset_from_pos_and_offset(pos, offset)\n",
    "            sentiSynset = swn.senti_synset(synset.name())\n",
    "\n",
    "            final_score += coef[tag]*(sentiSynset.pos_score() - sentiSynset.neg_score())\n",
    "            token_count += 1\n",
    "\n",
    "    norm_final_score = round(float(final_score)/token_count,3)\n",
    "    final_sentiment = 1 if norm_final_score>=0 else 0\n",
    "    return final_sentiment"
   ]
  },
  {
   "cell_type": "code",
   "execution_count": null,
   "metadata": {},
   "outputs": [],
   "source": [
    "from sklearn.metrics import accuracy_score\n",
    "class Sentiwordnet_coef:\n",
    "    def __init__(self, NN_coef = 1, JJ_coef = 1, VB_coef = 1, RB_coef = 1):\n",
    "        self._coef = {\"NN\" : NN_coef, \"JJ\" : JJ_coef, \"VB\" : VB_coef, \"RB\" : RB_coef}\n",
    "\n",
    "    def score(self, X, y):\n",
    "        y_pred = [sentiwordnet_predict(review) for review in X]\n",
    "    \n",
    "        return accuracy_score(y, y_pred)"
   ]
  }
 ],
 "metadata": {
  "kernelspec": {
   "display_name": "Python 3",
   "language": "python",
   "name": "python3"
  },
  "language_info": {
   "codemirror_mode": {
    "name": "ipython",
    "version": 3
   },
   "file_extension": ".py",
   "mimetype": "text/x-python",
   "name": "python",
   "nbconvert_exporter": "python",
   "pygments_lexer": "ipython3",
   "version": "3.10.10"
  }
 },
 "nbformat": 4,
 "nbformat_minor": 2
}
