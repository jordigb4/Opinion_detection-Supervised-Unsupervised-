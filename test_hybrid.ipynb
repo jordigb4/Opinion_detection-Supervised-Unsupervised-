{
 "cells": [
  {
   "cell_type": "code",
   "execution_count": 1,
   "metadata": {},
   "outputs": [
    {
     "name": "stderr",
     "output_type": "stream",
     "text": [
      "[nltk_data] Downloading package stopwords to\n",
      "[nltk_data]     C:\\Users\\Jordi\\AppData\\Roaming\\nltk_data...\n",
      "[nltk_data]   Package stopwords is already up-to-date!\n"
     ]
    }
   ],
   "source": [
    "from hybrid_classifier import HybridClassifier\n"
   ]
  },
  {
   "cell_type": "code",
   "execution_count": 2,
   "metadata": {},
   "outputs": [],
   "source": [
    "import pandas as pd"
   ]
  },
  {
   "cell_type": "code",
   "execution_count": 3,
   "metadata": {},
   "outputs": [
    {
     "name": "stderr",
     "output_type": "stream",
     "text": [
      "[nltk_data] Downloading package sentiwordnet to\n",
      "[nltk_data]     C:\\Users\\Jordi\\AppData\\Roaming\\nltk_data...\n",
      "[nltk_data]   Package sentiwordnet is already up-to-date!\n",
      "[nltk_data] Downloading package movie_reviews to\n",
      "[nltk_data]     C:\\Users\\Jordi\\AppData\\Roaming\\nltk_data...\n",
      "[nltk_data]   Package movie_reviews is already up-to-date!\n",
      "[nltk_data] Downloading package wordnet to\n",
      "[nltk_data]     C:\\Users\\Jordi\\AppData\\Roaming\\nltk_data...\n",
      "[nltk_data]   Package wordnet is already up-to-date!\n"
     ]
    }
   ],
   "source": [
    "classifier = HybridClassifier()"
   ]
  },
  {
   "cell_type": "code",
   "execution_count": 4,
   "metadata": {},
   "outputs": [],
   "source": [
    "from nltk.corpus import movie_reviews as mr\n",
    "from random import shuffle, seed\n",
    "seed(42)\n",
    "\n",
    "documents = [(mr.raw(file_id), 1 if category == 'pos' else 0) for category in mr.categories() for file_id in mr.fileids(category)]\n",
    "shuffle(documents)\n",
    "\n",
    "df_train, df_test = documents[:1600], documents[1600:]\n",
    "X_train = [item[0] for item in df_train]\n",
    "y_train = [item[1] for item in df_train]\n",
    "\n",
    "X_test = [item[0] for item in df_test]\n",
    "y_test = [item[1] for item in df_test]"
   ]
  },
  {
   "cell_type": "code",
   "execution_count": 5,
   "metadata": {},
   "outputs": [],
   "source": [
    "from sklearn.metrics import classification_report, accuracy_score, precision_score, recall_score, f1_score, confusion_matrix\n",
    "import matplotlib.pyplot as plt\n",
    "import seaborn as sn\n",
    "import numpy as np\n",
    "\n",
    "def model_performance(true_labels, predicted_labels,classes):    \n",
    "        conf_matrix = confusion_matrix(true_labels, predicted_labels)\n",
    "        df_cm = pd.DataFrame(conf_matrix, index = classes, columns = classes)\n",
    "\n",
    "        print('Accuracy:  {:2.2%} '.format(accuracy_score(true_labels, predicted_labels)))\n",
    "        print('Precision: {:2.2%} '.format(precision_score(true_labels, predicted_labels, average = 'weighted')))\n",
    "        print('Recall:    {:2.2%} '.format(recall_score(true_labels, predicted_labels, average = 'weighted')))\n",
    "        print('F1 Score:  {:2.2%} '.format(f1_score(true_labels, predicted_labels, average = 'weighted')))   \n",
    "        print(\"\\n\")\n",
    "        print(\"Classification Report: \\n\",)\n",
    "        print( classification_report(true_labels, predicted_labels))\n",
    "        plt.figure(figsize=(5,5))\n",
    "        sn.heatmap(df_cm, annot = True, fmt = \".3f\", linewidths = .5, square = True)\n",
    "        plt.ylabel('Actual label')\n",
    "        plt.xlabel('Predicted label')\n",
    "        print(\"\\nConfusion matrix:\")\n",
    "        score = accuracy_score(true_labels, predicted_labels)\n",
    "        all_sample_title = 'Accuracy Score: {0}%'.format(np.round(score,4)*100)\n",
    "        plt.title(all_sample_title, size = 12)"
   ]
  },
  {
   "cell_type": "code",
   "execution_count": null,
   "metadata": {},
   "outputs": [],
   "source": [
    "pred = classifier.predict(X_test)"
   ]
  },
  {
   "cell_type": "code",
   "execution_count": null,
   "metadata": {},
   "outputs": [],
   "source": [
    "model_performance(true_labels = y_test, predicted_labels = pred, \n",
    "                                  classes=['negative', 'positive'])"
   ]
  },
  {
   "cell_type": "markdown",
   "metadata": {},
   "source": [
    "## Search for best ponderation"
   ]
  },
  {
   "cell_type": "code",
   "execution_count": 6,
   "metadata": {},
   "outputs": [],
   "source": [
    "best_score = 0\n",
    "best_params = None"
   ]
  },
  {
   "cell_type": "code",
   "execution_count": 7,
   "metadata": {},
   "outputs": [
    {
     "name": "stderr",
     "output_type": "stream",
     "text": [
      "C:\\Users\\Jordi\\AppData\\Local\\Packages\\PythonSoftwareFoundation.Python.3.11_qbz5n2kfra8p0\\LocalCache\\local-packages\\Python311\\site-packages\\spacy\\pipeline\\lemmatizer.py:211: UserWarning: [W108] The rule-based lemmatizer did not find POS annotation for one or more tokens. Check that your pipeline includes components that assign token.pos, typically 'tagger'+'attribute_ruler' or 'morphologizer'.\n",
      "  warnings.warn(Warnings.W108)\n"
     ]
    }
   ],
   "source": [
    "from itertools import product\n",
    "\n",
    "param_range = [0,0.2,0.4,0.6,0.8,1]\n",
    "\n",
    "parametres = list(product(param_range,repeat = 3))\n",
    "\n",
    "all_preds = classifier.predict(X_test,test = True, test_data = parametres)"
   ]
  },
  {
   "cell_type": "code",
   "execution_count": 9,
   "metadata": {},
   "outputs": [],
   "source": [
    "accuracies_weights = [(accuracy_score(y_test, pred[0]),pred[1]) for pred in all_preds]"
   ]
  },
  {
   "cell_type": "code",
   "execution_count": 11,
   "metadata": {},
   "outputs": [],
   "source": [
    "accuracies_weights.sort(key = lambda x: x[0], reverse = True)"
   ]
  },
  {
   "cell_type": "code",
   "execution_count": 12,
   "metadata": {},
   "outputs": [
    {
     "data": {
      "text/plain": [
       "[(0.84, (0, 0, 0)),\n",
       " (0.84, (0.2, 0, 0)),\n",
       " (0.84, (0.2, 0, 0.2)),\n",
       " (0.84, (0.2, 0.2, 0)),\n",
       " (0.84, (0.4, 0, 0)),\n",
       " (0.84, (0.4, 0, 0.2)),\n",
       " (0.84, (0.4, 0, 0.4)),\n",
       " (0.84, (0.4, 0.2, 0)),\n",
       " (0.84, (0.4, 0.2, 0.2)),\n",
       " (0.84, (0.4, 0.4, 0)),\n",
       " (0.84, (0.6, 0, 0)),\n",
       " (0.84, (0.6, 0, 0.2)),\n",
       " (0.84, (0.6, 0, 0.4)),\n",
       " (0.84, (0.6, 0, 0.6)),\n",
       " (0.84, (0.6, 0.2, 0)),\n",
       " (0.84, (0.6, 0.2, 0.2)),\n",
       " (0.84, (0.6, 0.4, 0)),\n",
       " (0.84, (0.6, 0.6, 0)),\n",
       " (0.84, (0.8, 0, 0)),\n",
       " (0.84, (0.8, 0, 0.2)),\n",
       " (0.84, (0.8, 0, 0.4)),\n",
       " (0.84, (0.8, 0, 0.6)),\n",
       " (0.84, (0.8, 0, 0.8)),\n",
       " (0.84, (0.8, 0.2, 0)),\n",
       " (0.84, (0.8, 0.2, 0.2)),\n",
       " (0.84, (0.8, 0.2, 0.4)),\n",
       " (0.84, (0.8, 0.2, 0.6)),\n",
       " (0.84, (0.8, 0.4, 0)),\n",
       " (0.84, (0.8, 0.4, 0.2)),\n",
       " (0.84, (0.8, 0.4, 0.4)),\n",
       " (0.84, (0.8, 0.6, 0)),\n",
       " (0.84, (0.8, 0.6, 0.2)),\n",
       " (0.84, (0.8, 0.8, 0)),\n",
       " (0.84, (1, 0, 0)),\n",
       " (0.84, (1, 0, 0.2)),\n",
       " (0.84, (1, 0, 0.4)),\n",
       " (0.84, (1, 0, 0.6)),\n",
       " (0.84, (1, 0, 0.8)),\n",
       " (0.84, (1, 0, 1)),\n",
       " (0.84, (1, 0.2, 0)),\n",
       " (0.84, (1, 0.2, 0.2)),\n",
       " (0.84, (1, 0.2, 0.4)),\n",
       " (0.84, (1, 0.2, 0.6)),\n",
       " (0.84, (1, 0.2, 0.8)),\n",
       " (0.84, (1, 0.4, 0)),\n",
       " (0.84, (1, 0.4, 0.2)),\n",
       " (0.84, (1, 0.4, 0.4)),\n",
       " (0.84, (1, 0.4, 0.6)),\n",
       " (0.84, (1, 0.6, 0)),\n",
       " (0.84, (1, 0.6, 0.2)),\n",
       " (0.84, (1, 0.6, 0.4)),\n",
       " (0.84, (1, 0.8, 0)),\n",
       " (0.84, (1, 0.8, 0.2)),\n",
       " (0.84, (1, 1, 0)),\n",
       " (0.8375, (0, 0.2, 0.2)),\n",
       " (0.8375, (0, 0.4, 0.4)),\n",
       " (0.8375, (0, 0.6, 0.6)),\n",
       " (0.8375, (0, 0.8, 0.8)),\n",
       " (0.8375, (0, 1, 1)),\n",
       " (0.8375, (0.2, 0.2, 0.2)),\n",
       " (0.8375, (0.2, 0.2, 0.4)),\n",
       " (0.8375, (0.2, 0.4, 0.2)),\n",
       " (0.8375, (0.2, 0.4, 0.4)),\n",
       " (0.8375, (0.2, 0.4, 0.6)),\n",
       " (0.8375, (0.2, 0.6, 0.4)),\n",
       " (0.8375, (0.2, 0.6, 0.6)),\n",
       " (0.8375, (0.2, 0.6, 0.8)),\n",
       " (0.8375, (0.2, 0.8, 0.6)),\n",
       " (0.8375, (0.2, 0.8, 0.8)),\n",
       " (0.8375, (0.2, 0.8, 1)),\n",
       " (0.8375, (0.2, 1, 0.8)),\n",
       " (0.8375, (0.2, 1, 1)),\n",
       " (0.8375, (0.4, 0.2, 0.4)),\n",
       " (0.8375, (0.4, 0.2, 0.6)),\n",
       " (0.8375, (0.4, 0.4, 0.2)),\n",
       " (0.8375, (0.4, 0.4, 0.4)),\n",
       " (0.8375, (0.4, 0.4, 0.6)),\n",
       " (0.8375, (0.4, 0.4, 0.8)),\n",
       " (0.8375, (0.4, 0.6, 0.2)),\n",
       " (0.8375, (0.4, 0.6, 0.4)),\n",
       " (0.8375, (0.4, 0.6, 0.6)),\n",
       " (0.8375, (0.4, 0.6, 0.8)),\n",
       " (0.8375, (0.4, 0.6, 1)),\n",
       " (0.8375, (0.4, 0.8, 0.4)),\n",
       " (0.8375, (0.4, 0.8, 0.6)),\n",
       " (0.8375, (0.4, 0.8, 0.8)),\n",
       " (0.8375, (0.4, 0.8, 1)),\n",
       " (0.8375, (0.4, 1, 0.6)),\n",
       " (0.8375, (0.4, 1, 0.8)),\n",
       " (0.8375, (0.4, 1, 1)),\n",
       " (0.8375, (0.6, 0.2, 0.4)),\n",
       " (0.8375, (0.6, 0.2, 0.6)),\n",
       " (0.8375, (0.6, 0.2, 0.8)),\n",
       " (0.8375, (0.6, 0.4, 0.2)),\n",
       " (0.8375, (0.6, 0.4, 0.4)),\n",
       " (0.8375, (0.6, 0.4, 0.6)),\n",
       " (0.8375, (0.6, 0.4, 0.8)),\n",
       " (0.8375, (0.6, 0.4, 1)),\n",
       " (0.8375, (0.6, 0.6, 0.2)),\n",
       " (0.8375, (0.6, 0.6, 0.4)),\n",
       " (0.8375, (0.6, 0.6, 0.6)),\n",
       " (0.8375, (0.6, 0.6, 0.8)),\n",
       " (0.8375, (0.6, 0.6, 1)),\n",
       " (0.8375, (0.6, 0.8, 0.2)),\n",
       " (0.8375, (0.6, 0.8, 0.4)),\n",
       " (0.8375, (0.6, 0.8, 0.6)),\n",
       " (0.8375, (0.6, 0.8, 0.8)),\n",
       " (0.8375, (0.6, 0.8, 1)),\n",
       " (0.8375, (0.6, 1, 0.4)),\n",
       " (0.8375, (0.6, 1, 0.6)),\n",
       " (0.8375, (0.6, 1, 0.8)),\n",
       " (0.8375, (0.6, 1, 1)),\n",
       " (0.8375, (0.8, 0.2, 0.8)),\n",
       " (0.8375, (0.8, 0.2, 1)),\n",
       " (0.8375, (0.8, 0.4, 0.6)),\n",
       " (0.8375, (0.8, 0.4, 0.8)),\n",
       " (0.8375, (0.8, 0.4, 1)),\n",
       " (0.8375, (0.8, 0.6, 0.4)),\n",
       " (0.8375, (0.8, 0.6, 0.6)),\n",
       " (0.8375, (0.8, 0.6, 0.8)),\n",
       " (0.8375, (0.8, 0.6, 1)),\n",
       " (0.8375, (0.8, 0.8, 0.2)),\n",
       " (0.8375, (0.8, 0.8, 0.4)),\n",
       " (0.8375, (0.8, 0.8, 0.6)),\n",
       " (0.8375, (0.8, 0.8, 0.8)),\n",
       " (0.8375, (0.8, 0.8, 1)),\n",
       " (0.8375, (0.8, 1, 0.2)),\n",
       " (0.8375, (0.8, 1, 0.4)),\n",
       " (0.8375, (0.8, 1, 0.6)),\n",
       " (0.8375, (0.8, 1, 0.8)),\n",
       " (0.8375, (0.8, 1, 1)),\n",
       " (0.8375, (1, 0.2, 1)),\n",
       " (0.8375, (1, 0.4, 0.8)),\n",
       " (0.8375, (1, 0.4, 1)),\n",
       " (0.8375, (1, 0.6, 0.6)),\n",
       " (0.8375, (1, 0.6, 0.8)),\n",
       " (0.8375, (1, 0.6, 1)),\n",
       " (0.8375, (1, 0.8, 0.4)),\n",
       " (0.8375, (1, 0.8, 0.6)),\n",
       " (0.8375, (1, 0.8, 0.8)),\n",
       " (0.8375, (1, 0.8, 1)),\n",
       " (0.8375, (1, 1, 0.2)),\n",
       " (0.8375, (1, 1, 0.4)),\n",
       " (0.8375, (1, 1, 0.6)),\n",
       " (0.8375, (1, 1, 0.8)),\n",
       " (0.8375, (1, 1, 1)),\n",
       " (0.8275, (0, 0.2, 0)),\n",
       " (0.8275, (0, 0.4, 0)),\n",
       " (0.8275, (0, 0.4, 0.2)),\n",
       " (0.8275, (0, 0.6, 0)),\n",
       " (0.8275, (0, 0.6, 0.2)),\n",
       " (0.8275, (0, 0.6, 0.4)),\n",
       " (0.8275, (0, 0.8, 0)),\n",
       " (0.8275, (0, 0.8, 0.2)),\n",
       " (0.8275, (0, 0.8, 0.4)),\n",
       " (0.8275, (0, 0.8, 0.6)),\n",
       " (0.8275, (0, 1, 0)),\n",
       " (0.8275, (0, 1, 0.2)),\n",
       " (0.8275, (0, 1, 0.4)),\n",
       " (0.8275, (0, 1, 0.6)),\n",
       " (0.8275, (0, 1, 0.8)),\n",
       " (0.8275, (0.2, 0.4, 0)),\n",
       " (0.8275, (0.2, 0.6, 0)),\n",
       " (0.8275, (0.2, 0.6, 0.2)),\n",
       " (0.8275, (0.2, 0.8, 0)),\n",
       " (0.8275, (0.2, 0.8, 0.2)),\n",
       " (0.8275, (0.2, 0.8, 0.4)),\n",
       " (0.8275, (0.2, 1, 0)),\n",
       " (0.8275, (0.2, 1, 0.2)),\n",
       " (0.8275, (0.2, 1, 0.4)),\n",
       " (0.8275, (0.2, 1, 0.6)),\n",
       " (0.8275, (0.4, 0.6, 0)),\n",
       " (0.8275, (0.4, 0.8, 0)),\n",
       " (0.8275, (0.4, 0.8, 0.2)),\n",
       " (0.8275, (0.4, 1, 0)),\n",
       " (0.8275, (0.4, 1, 0.2)),\n",
       " (0.8275, (0.4, 1, 0.4)),\n",
       " (0.8275, (0.6, 0.8, 0)),\n",
       " (0.8275, (0.6, 1, 0)),\n",
       " (0.8275, (0.6, 1, 0.2)),\n",
       " (0.8275, (0.8, 1, 0)),\n",
       " (0.6825, (0, 0, 0.2)),\n",
       " (0.6825, (0, 0, 0.4)),\n",
       " (0.6825, (0, 0, 0.6)),\n",
       " (0.6825, (0, 0, 0.8)),\n",
       " (0.6825, (0, 0, 1)),\n",
       " (0.6825, (0, 0.2, 0.4)),\n",
       " (0.6825, (0, 0.2, 0.6)),\n",
       " (0.6825, (0, 0.2, 0.8)),\n",
       " (0.6825, (0, 0.2, 1)),\n",
       " (0.6825, (0, 0.4, 0.6)),\n",
       " (0.6825, (0, 0.4, 0.8)),\n",
       " (0.6825, (0, 0.4, 1)),\n",
       " (0.6825, (0, 0.6, 0.8)),\n",
       " (0.6825, (0, 0.6, 1)),\n",
       " (0.6825, (0, 0.8, 1)),\n",
       " (0.6825, (0.2, 0, 0.4)),\n",
       " (0.6825, (0.2, 0, 0.6)),\n",
       " (0.6825, (0.2, 0, 0.8)),\n",
       " (0.6825, (0.2, 0, 1)),\n",
       " (0.6825, (0.2, 0.2, 0.6)),\n",
       " (0.6825, (0.2, 0.2, 0.8)),\n",
       " (0.6825, (0.2, 0.2, 1)),\n",
       " (0.6825, (0.2, 0.4, 0.8)),\n",
       " (0.6825, (0.2, 0.4, 1)),\n",
       " (0.6825, (0.2, 0.6, 1)),\n",
       " (0.6825, (0.4, 0, 0.6)),\n",
       " (0.6825, (0.4, 0, 0.8)),\n",
       " (0.6825, (0.4, 0, 1)),\n",
       " (0.6825, (0.4, 0.2, 0.8)),\n",
       " (0.6825, (0.4, 0.2, 1)),\n",
       " (0.6825, (0.4, 0.4, 1)),\n",
       " (0.6825, (0.6, 0, 0.8)),\n",
       " (0.6825, (0.6, 0, 1)),\n",
       " (0.6825, (0.6, 0.2, 1)),\n",
       " (0.6825, (0.8, 0, 1))]"
      ]
     },
     "execution_count": 12,
     "metadata": {},
     "output_type": "execute_result"
    }
   ],
   "source": [
    "accuracies_weights"
   ]
  }
 ],
 "metadata": {
  "kernelspec": {
   "display_name": "Python 3",
   "language": "python",
   "name": "python3"
  },
  "language_info": {
   "codemirror_mode": {
    "name": "ipython",
    "version": 3
   },
   "file_extension": ".py",
   "mimetype": "text/x-python",
   "name": "python",
   "nbconvert_exporter": "python",
   "pygments_lexer": "ipython3",
   "version": "3.11.8"
  }
 },
 "nbformat": 4,
 "nbformat_minor": 2
}
